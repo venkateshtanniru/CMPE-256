{
 "cells": [
  {
   "cell_type": "code",
   "execution_count": 1,
   "metadata": {},
   "outputs": [],
   "source": [
    "import requests\n",
    "import bs4\n",
    "from bs4 import BeautifulSoup\n",
    "import os\n",
    "import csv"
   ]
  },
  {
   "cell_type": "code",
   "execution_count": 2,
   "metadata": {},
   "outputs": [
    {
     "name": "stderr",
     "output_type": "stream",
     "text": [
      "C:\\Users\\Venka\\Downloads\\Anaconda\\lib\\site-packages\\bs4\\__init__.py:177: UserWarning: You provided Unicode markup but also provided a value for from_encoding. Your from_encoding will be ignored.\n",
      "  warnings.warn(\"You provided Unicode markup but also provided a value for from_encoding. Your from_encoding will be ignored.\")\n"
     ]
    }
   ],
   "source": [
    "pages=[10,20,30,40,50,60,70,80,90,100,110,120,130,140,150,160,170,180,190,200,210,220,230,240,250,260,270,280,290,300,310,320,330,340,350,360,370,380,390,400,410,420,430,440,450,460,470,480,490,500,510,520,530,540,550,560,570,580,590,600,610,620,630,640,650,660,670,680,690,700,710,720,730,740,750,760,770,780,790,800,810,820,830,840,850,860,870,880,890,900,910,920,930,940,950,960,970,980,990,1000]\n",
    "\n",
    "\n",
    "with open(r'C:\\Users\\Venka\\OneDrive\\Desktop\\CMPE 256\\individual project\\job_data.csv','a',encoding='utf-8',newline='')as f_output:\n",
    "    csv_print = csv.writer(f_output)\n",
    "    \n",
    "    file_is_empty = os.stat(r'C:\\Users\\Venka\\OneDrive\\Desktop\\CMPE 256\\individual project\\job_data.csv').st_size==0\n",
    "    if file_is_empty:\n",
    "        csv_print.writerow(['Job_Title','Company','Location','Salary','Summary'])\n",
    "        \n",
    "    for page in pages:\n",
    "        html = requests.get('https://www.indeed.com/jobs?q=software+engineer&start={}'.format(page)).text\n",
    "        soup = BeautifulSoup(html, 'html.parser', from_encoding=\"utf-8\")\n",
    "        for each in soup.find_all(class_= \"result\" ):\n",
    "            try: \n",
    "                title = each.find(class_='jobtitle').text.strip()\n",
    "            except:\n",
    "                title = 'None'\n",
    "            try:\n",
    "                location = each.find('span', class_='location').text.strip()\n",
    "            except:\n",
    "                location = 'None'\n",
    "            try: \n",
    "                company = each.find('span', class_='company').text.strip()\n",
    "            except:\n",
    "                company = 'None'\n",
    "            try:\n",
    "                salary = each.find('span', class_='no-wrap').text\n",
    "            except:\n",
    "                salary = 'None'\n",
    "                summary = each.find('div', {'class':'summary'}).text.strip()\n",
    "                csv_print.writerow([title,company,location,salary,summary])\n",
    "        "
   ]
  },
  {
   "cell_type": "code",
   "execution_count": 3,
   "metadata": {},
   "outputs": [
    {
     "name": "stdout",
     "output_type": "stream",
     "text": [
      "                      Job_Title    Company      Location Salary  \\\n",
      "0    Software Engineer, Quality     Paypal          None   None   \n",
      "1   Biller Integration Engineer     BillGO          None   None   \n",
      "2      Siri - Software Engineer      Apple          None   None   \n",
      "3  Software Engineer Instructor  Persevere          None   None   \n",
      "4      MTS 1, Software Engineer  eBay Inc.  San Jose, CA   None   \n",
      "\n",
      "                                             Summary  \n",
      "0  We're a purpose-driven company whose beliefs a...  \n",
      "1  We offer very competitive salaries and benefit...  \n",
      "2  Knowledge and experience in Java or C++. Creat...  \n",
      "3  Developing and delivering programs of learning...  \n",
      "4  We work very closely with the Product Manageme...  \n"
     ]
    }
   ],
   "source": [
    "import pandas as pd\n",
    "\n",
    "jobs=pd.read_csv(r'C:\\Users\\Venka\\OneDrive\\Desktop\\CMPE 256\\individual project\\job_data.csv')\n",
    "print(jobs.head())\n",
    "jobs1=jobs"
   ]
  },
  {
   "cell_type": "code",
   "execution_count": 4,
   "metadata": {
    "scrolled": true
   },
   "outputs": [
    {
     "data": {
      "text/html": [
       "<div>\n",
       "<style scoped>\n",
       "    .dataframe tbody tr th:only-of-type {\n",
       "        vertical-align: middle;\n",
       "    }\n",
       "\n",
       "    .dataframe tbody tr th {\n",
       "        vertical-align: top;\n",
       "    }\n",
       "\n",
       "    .dataframe thead th {\n",
       "        text-align: right;\n",
       "    }\n",
       "</style>\n",
       "<table border=\"1\" class=\"dataframe\">\n",
       "  <thead>\n",
       "    <tr style=\"text-align: right;\">\n",
       "      <th></th>\n",
       "      <th>Job_Title</th>\n",
       "      <th>Company</th>\n",
       "      <th>Location</th>\n",
       "      <th>Salary</th>\n",
       "      <th>Summary</th>\n",
       "      <th>words</th>\n",
       "    </tr>\n",
       "  </thead>\n",
       "  <tbody>\n",
       "    <tr>\n",
       "      <th>0</th>\n",
       "      <td>Software Engineer, Quality</td>\n",
       "      <td>Paypal</td>\n",
       "      <td>None</td>\n",
       "      <td>None</td>\n",
       "      <td>We're a purpose-driven company whose beliefs a...</td>\n",
       "      <td>[We, re, a, purpose, driven, company, whose, b...</td>\n",
       "    </tr>\n",
       "    <tr>\n",
       "      <th>1</th>\n",
       "      <td>Biller Integration Engineer</td>\n",
       "      <td>BillGO</td>\n",
       "      <td>None</td>\n",
       "      <td>None</td>\n",
       "      <td>We offer very competitive salaries and benefit...</td>\n",
       "      <td>[We, offer, very, competitive, salaries, and, ...</td>\n",
       "    </tr>\n",
       "    <tr>\n",
       "      <th>2</th>\n",
       "      <td>Siri - Software Engineer</td>\n",
       "      <td>Apple</td>\n",
       "      <td>None</td>\n",
       "      <td>None</td>\n",
       "      <td>Knowledge and experience in Java or C++. Creat...</td>\n",
       "      <td>[Knowledge, and, experience, in, Java, or, C, ...</td>\n",
       "    </tr>\n",
       "    <tr>\n",
       "      <th>3</th>\n",
       "      <td>Software Engineer Instructor</td>\n",
       "      <td>Persevere</td>\n",
       "      <td>None</td>\n",
       "      <td>None</td>\n",
       "      <td>Developing and delivering programs of learning...</td>\n",
       "      <td>[Developing, and, delivering, programs, of, le...</td>\n",
       "    </tr>\n",
       "    <tr>\n",
       "      <th>4</th>\n",
       "      <td>MTS 1, Software Engineer</td>\n",
       "      <td>eBay Inc.</td>\n",
       "      <td>San Jose, CA</td>\n",
       "      <td>None</td>\n",
       "      <td>We work very closely with the Product Manageme...</td>\n",
       "      <td>[We, work, very, closely, with, the, Product, ...</td>\n",
       "    </tr>\n",
       "  </tbody>\n",
       "</table>\n",
       "</div>"
      ],
      "text/plain": [
       "                      Job_Title    Company      Location Salary  \\\n",
       "0    Software Engineer, Quality     Paypal          None   None   \n",
       "1   Biller Integration Engineer     BillGO          None   None   \n",
       "2      Siri - Software Engineer      Apple          None   None   \n",
       "3  Software Engineer Instructor  Persevere          None   None   \n",
       "4      MTS 1, Software Engineer  eBay Inc.  San Jose, CA   None   \n",
       "\n",
       "                                             Summary  \\\n",
       "0  We're a purpose-driven company whose beliefs a...   \n",
       "1  We offer very competitive salaries and benefit...   \n",
       "2  Knowledge and experience in Java or C++. Creat...   \n",
       "3  Developing and delivering programs of learning...   \n",
       "4  We work very closely with the Product Manageme...   \n",
       "\n",
       "                                               words  \n",
       "0  [We, re, a, purpose, driven, company, whose, b...  \n",
       "1  [We, offer, very, competitive, salaries, and, ...  \n",
       "2  [Knowledge, and, experience, in, Java, or, C, ...  \n",
       "3  [Developing, and, delivering, programs, of, le...  \n",
       "4  [We, work, very, closely, with, the, Product, ...  "
      ]
     },
     "execution_count": 4,
     "metadata": {},
     "output_type": "execute_result"
    }
   ],
   "source": [
    "jobs1['words'] = jobs1.Summary.str.strip().str.split('[\\W_]+')\n",
    "jobs1.head()"
   ]
  },
  {
   "cell_type": "code",
   "execution_count": 5,
   "metadata": {},
   "outputs": [
    {
     "data": {
      "text/plain": [
       "(1477, 6)"
      ]
     },
     "execution_count": 5,
     "metadata": {},
     "output_type": "execute_result"
    }
   ],
   "source": [
    "jobs1.shape"
   ]
  },
  {
   "cell_type": "code",
   "execution_count": 6,
   "metadata": {},
   "outputs": [
    {
     "name": "stderr",
     "output_type": "stream",
     "text": [
      "C:\\Users\\Venka\\Downloads\\Anaconda\\lib\\site-packages\\sklearn\\feature_extraction\\text.py:301: UserWarning: Your stop_words may be inconsistent with your preprocessing. Tokenizing the stop words generated tokens ['b', 'c', 'd', 'e', 'f', 'g', 'h', 'k', 'l', 'm', 'n', 'o', 'p', 'r', 's', 't', 'u', 'v', 'w', 'x', 'y'] not in stop_words.\n",
      "  'stop_words.' % sorted(inconsistent))\n"
     ]
    }
   ],
   "source": [
    "from sklearn.feature_extraction.text import TfidfVectorizer\n",
    "vectorizer = TfidfVectorizer(tokenizer=lambda doc: doc,lowercase=False,stop_words='english', use_idf = True,norm='l1')\n",
    "Y = vectorizer.fit_transform(jobs1['words'])"
   ]
  },
  {
   "cell_type": "code",
   "execution_count": 7,
   "metadata": {},
   "outputs": [
    {
     "name": "stdout",
     "output_type": "stream",
     "text": [
      "                  0  000  0018         1   10       100  105   11   12  ...  \\\n",
      "0     0.014612  0.0  0.0   0.0  0.000000  0.0  0.000000  0.0  0.0  0.0  ...   \n",
      "1     0.012499  0.0  0.0   0.0  0.000000  0.0  0.000000  0.0  0.0  0.0  ...   \n",
      "2     0.012854  0.0  0.0   0.0  0.000000  0.0  0.000000  0.0  0.0  0.0  ...   \n",
      "3     0.009058  0.0  0.0   0.0  0.000000  0.0  0.000000  0.0  0.0  0.0  ...   \n",
      "4     0.012877  0.0  0.0   0.0  0.000000  0.0  0.000000  0.0  0.0  0.0  ...   \n",
      "5     0.009643  0.0  0.0   0.0  0.000000  0.0  0.069432  0.0  0.0  0.0  ...   \n",
      "6     0.011610  0.0  0.0   0.0  0.000000  0.0  0.000000  0.0  0.0  0.0  ...   \n",
      "7     0.010816  0.0  0.0   0.0  0.000000  0.0  0.000000  0.0  0.0  0.0  ...   \n",
      "8     0.013124  0.0  0.0   0.0  0.000000  0.0  0.000000  0.0  0.0  0.0  ...   \n",
      "9     0.012880  0.0  0.0   0.0  0.000000  0.0  0.000000  0.0  0.0  0.0  ...   \n",
      "10    0.012016  0.0  0.0   0.0  0.000000  0.0  0.000000  0.0  0.0  0.0  ...   \n",
      "11    0.008491  0.0  0.0   0.0  0.000000  0.0  0.000000  0.0  0.0  0.0  ...   \n",
      "12    0.019610  0.0  0.0   0.0  0.000000  0.0  0.000000  0.0  0.0  0.0  ...   \n",
      "13    0.011994  0.0  0.0   0.0  0.000000  0.0  0.000000  0.0  0.0  0.0  ...   \n",
      "14    0.016155  0.0  0.0   0.0  0.000000  0.0  0.000000  0.0  0.0  0.0  ...   \n",
      "15    0.014725  0.0  0.0   0.0  0.000000  0.0  0.000000  0.0  0.0  0.0  ...   \n",
      "16    0.019610  0.0  0.0   0.0  0.000000  0.0  0.000000  0.0  0.0  0.0  ...   \n",
      "17    0.014042  0.0  0.0   0.0  0.000000  0.0  0.000000  0.0  0.0  0.0  ...   \n",
      "18    0.016132  0.0  0.0   0.0  0.000000  0.0  0.000000  0.0  0.0  0.0  ...   \n",
      "19    0.013079  0.0  0.0   0.0  0.000000  0.0  0.000000  0.0  0.0  0.0  ...   \n",
      "20    0.010235  0.0  0.0   0.0  0.000000  0.0  0.000000  0.0  0.0  0.0  ...   \n",
      "21    0.011471  0.0  0.0   0.0  0.000000  0.0  0.000000  0.0  0.0  0.0  ...   \n",
      "22    0.010758  0.0  0.0   0.0  0.000000  0.0  0.000000  0.0  0.0  0.0  ...   \n",
      "23    0.008944  0.0  0.0   0.0  0.000000  0.0  0.000000  0.0  0.0  0.0  ...   \n",
      "24    0.016133  0.0  0.0   0.0  0.000000  0.0  0.000000  0.0  0.0  0.0  ...   \n",
      "25    0.009397  0.0  0.0   0.0  0.000000  0.0  0.000000  0.0  0.0  0.0  ...   \n",
      "26    0.012745  0.0  0.0   0.0  0.000000  0.0  0.000000  0.0  0.0  0.0  ...   \n",
      "27    0.019528  0.0  0.0   0.0  0.000000  0.0  0.000000  0.0  0.0  0.0  ...   \n",
      "28    0.008669  0.0  0.0   0.0  0.000000  0.0  0.000000  0.0  0.0  0.0  ...   \n",
      "29    0.012728  0.0  0.0   0.0  0.000000  0.0  0.000000  0.0  0.0  0.0  ...   \n",
      "...        ...  ...  ...   ...       ...  ...       ...  ...  ...  ...  ...   \n",
      "1447  0.012785  0.0  0.0   0.0  0.000000  0.0  0.000000  0.0  0.0  0.0  ...   \n",
      "1448  0.016733  0.0  0.0   0.0  0.000000  0.0  0.000000  0.0  0.0  0.0  ...   \n",
      "1449  0.012527  0.0  0.0   0.0  0.000000  0.0  0.000000  0.0  0.0  0.0  ...   \n",
      "1450  0.016021  0.0  0.0   0.0  0.000000  0.0  0.000000  0.0  0.0  0.0  ...   \n",
      "1451  0.016664  0.0  0.0   0.0  0.000000  0.0  0.000000  0.0  0.0  0.0  ...   \n",
      "1452  0.012891  0.0  0.0   0.0  0.000000  0.0  0.000000  0.0  0.0  0.0  ...   \n",
      "1453  0.015537  0.0  0.0   0.0  0.000000  0.0  0.000000  0.0  0.0  0.0  ...   \n",
      "1454  0.014148  0.0  0.0   0.0  0.000000  0.0  0.000000  0.0  0.0  0.0  ...   \n",
      "1455  0.016743  0.0  0.0   0.0  0.000000  0.0  0.000000  0.0  0.0  0.0  ...   \n",
      "1456  0.015605  0.0  0.0   0.0  0.000000  0.0  0.000000  0.0  0.0  0.0  ...   \n",
      "1457  0.011296  0.0  0.0   0.0  0.000000  0.0  0.000000  0.0  0.0  0.0  ...   \n",
      "1458  0.011285  0.0  0.0   0.0  0.000000  0.0  0.000000  0.0  0.0  0.0  ...   \n",
      "1459  0.014770  0.0  0.0   0.0  0.000000  0.0  0.000000  0.0  0.0  0.0  ...   \n",
      "1460  0.010423  0.0  0.0   0.0  0.055270  0.0  0.000000  0.0  0.0  0.0  ...   \n",
      "1461  0.009558  0.0  0.0   0.0  0.000000  0.0  0.000000  0.0  0.0  0.0  ...   \n",
      "1462  0.016553  0.0  0.0   0.0  0.000000  0.0  0.000000  0.0  0.0  0.0  ...   \n",
      "1463  0.015320  0.0  0.0   0.0  0.000000  0.0  0.000000  0.0  0.0  0.0  ...   \n",
      "1464  0.010799  0.0  0.0   0.0  0.000000  0.0  0.000000  0.0  0.0  0.0  ...   \n",
      "1465  0.016617  0.0  0.0   0.0  0.000000  0.0  0.000000  0.0  0.0  0.0  ...   \n",
      "1466  0.016664  0.0  0.0   0.0  0.000000  0.0  0.000000  0.0  0.0  0.0  ...   \n",
      "1467  0.012891  0.0  0.0   0.0  0.000000  0.0  0.000000  0.0  0.0  0.0  ...   \n",
      "1468  0.011731  0.0  0.0   0.0  0.000000  0.0  0.000000  0.0  0.0  0.0  ...   \n",
      "1469  0.015280  0.0  0.0   0.0  0.000000  0.0  0.000000  0.0  0.0  0.0  ...   \n",
      "1470  0.011975  0.0  0.0   0.0  0.000000  0.0  0.000000  0.0  0.0  0.0  ...   \n",
      "1471  0.011471  0.0  0.0   0.0  0.000000  0.0  0.000000  0.0  0.0  0.0  ...   \n",
      "1472  0.014102  0.0  0.0   0.0  0.000000  0.0  0.000000  0.0  0.0  0.0  ...   \n",
      "1473  0.018614  0.0  0.0   0.0  0.000000  0.0  0.000000  0.0  0.0  0.0  ...   \n",
      "1474  0.012151  0.0  0.0   0.0  0.000000  0.0  0.000000  0.0  0.0  0.0  ...   \n",
      "1475  0.015282  0.0  0.0   0.0  0.081037  0.0  0.000000  0.0  0.0  0.0  ...   \n",
      "1476  0.011834  0.0  0.0   0.0  0.000000  0.0  0.000000  0.0  0.0  0.0  ...   \n",
      "\n",
      "      writers   writing  written  www      year  yearn     years  yes  zakir  \\\n",
      "0         0.0  0.000000      0.0  0.0  0.000000    0.0  0.000000  0.0    0.0   \n",
      "1         0.0  0.000000      0.0  0.0  0.000000    0.0  0.000000  0.0    0.0   \n",
      "2         0.0  0.000000      0.0  0.0  0.000000    0.0  0.000000  0.0    0.0   \n",
      "3         0.0  0.000000      0.0  0.0  0.000000    0.0  0.000000  0.0    0.0   \n",
      "4         0.0  0.000000      0.0  0.0  0.000000    0.0  0.000000  0.0    0.0   \n",
      "5         0.0  0.000000      0.0  0.0  0.052153    0.0  0.000000  0.0    0.0   \n",
      "6         0.0  0.000000      0.0  0.0  0.000000    0.0  0.000000  0.0    0.0   \n",
      "7         0.0  0.000000      0.0  0.0  0.000000    0.0  0.000000  0.0    0.0   \n",
      "8         0.0  0.000000      0.0  0.0  0.000000    0.0  0.000000  0.0    0.0   \n",
      "9         0.0  0.000000      0.0  0.0  0.000000    0.0  0.000000  0.0    0.0   \n",
      "10        0.0  0.000000      0.0  0.0  0.000000    0.0  0.000000  0.0    0.0   \n",
      "11        0.0  0.000000      0.0  0.0  0.000000    0.0  0.000000  0.0    0.0   \n",
      "12        0.0  0.000000      0.0  0.0  0.000000    0.0  0.000000  0.0    0.0   \n",
      "13        0.0  0.000000      0.0  0.0  0.000000    0.0  0.000000  0.0    0.0   \n",
      "14        0.0  0.000000      0.0  0.0  0.000000    0.0  0.000000  0.0    0.0   \n",
      "15        0.0  0.000000      0.0  0.0  0.000000    0.0  0.000000  0.0    0.0   \n",
      "16        0.0  0.000000      0.0  0.0  0.000000    0.0  0.000000  0.0    0.0   \n",
      "17        0.0  0.000000      0.0  0.0  0.000000    0.0  0.000000  0.0    0.0   \n",
      "18        0.0  0.000000      0.0  0.0  0.000000    0.0  0.000000  0.0    0.0   \n",
      "19        0.0  0.000000      0.0  0.0  0.000000    0.0  0.000000  0.0    0.0   \n",
      "20        0.0  0.000000      0.0  0.0  0.000000    0.0  0.000000  0.0    0.0   \n",
      "21        0.0  0.000000      0.0  0.0  0.000000    0.0  0.000000  0.0    0.0   \n",
      "22        0.0  0.000000      0.0  0.0  0.000000    0.0  0.000000  0.0    0.0   \n",
      "23        0.0  0.000000      0.0  0.0  0.000000    0.0  0.033492  0.0    0.0   \n",
      "24        0.0  0.000000      0.0  0.0  0.000000    0.0  0.000000  0.0    0.0   \n",
      "25        0.0  0.045125      0.0  0.0  0.000000    0.0  0.000000  0.0    0.0   \n",
      "26        0.0  0.000000      0.0  0.0  0.000000    0.0  0.000000  0.0    0.0   \n",
      "27        0.0  0.000000      0.0  0.0  0.000000    0.0  0.000000  0.0    0.0   \n",
      "28        0.0  0.000000      0.0  0.0  0.000000    0.0  0.000000  0.0    0.0   \n",
      "29        0.0  0.000000      0.0  0.0  0.000000    0.0  0.000000  0.0    0.0   \n",
      "...       ...       ...      ...  ...       ...    ...       ...  ...    ...   \n",
      "1447      0.0  0.000000      0.0  0.0  0.000000    0.0  0.000000  0.0    0.0   \n",
      "1448      0.0  0.000000      0.0  0.0  0.000000    0.0  0.000000  0.0    0.0   \n",
      "1449      0.0  0.000000      0.0  0.0  0.000000    0.0  0.000000  0.0    0.0   \n",
      "1450      0.0  0.000000      0.0  0.0  0.000000    0.0  0.000000  0.0    0.0   \n",
      "1451      0.0  0.000000      0.0  0.0  0.000000    0.0  0.000000  0.0    0.0   \n",
      "1452      0.0  0.000000      0.0  0.0  0.000000    0.0  0.000000  0.0    0.0   \n",
      "1453      0.0  0.000000      0.0  0.0  0.000000    0.0  0.000000  0.0    0.0   \n",
      "1454      0.0  0.000000      0.0  0.0  0.000000    0.0  0.000000  0.0    0.0   \n",
      "1455      0.0  0.000000      0.0  0.0  0.000000    0.0  0.000000  0.0    0.0   \n",
      "1456      0.0  0.000000      0.0  0.0  0.000000    0.0  0.000000  0.0    0.0   \n",
      "1457      0.0  0.000000      0.0  0.0  0.000000    0.0  0.000000  0.0    0.0   \n",
      "1458      0.0  0.000000      0.0  0.0  0.000000    0.0  0.000000  0.0    0.0   \n",
      "1459      0.0  0.000000      0.0  0.0  0.000000    0.0  0.000000  0.0    0.0   \n",
      "1460      0.0  0.000000      0.0  0.0  0.056368    0.0  0.000000  0.0    0.0   \n",
      "1461      0.0  0.000000      0.0  0.0  0.000000    0.0  0.000000  0.0    0.0   \n",
      "1462      0.0  0.000000      0.0  0.0  0.000000    0.0  0.000000  0.0    0.0   \n",
      "1463      0.0  0.000000      0.0  0.0  0.000000    0.0  0.000000  0.0    0.0   \n",
      "1464      0.0  0.000000      0.0  0.0  0.000000    0.0  0.000000  0.0    0.0   \n",
      "1465      0.0  0.000000      0.0  0.0  0.000000    0.0  0.000000  0.0    0.0   \n",
      "1466      0.0  0.000000      0.0  0.0  0.000000    0.0  0.000000  0.0    0.0   \n",
      "1467      0.0  0.000000      0.0  0.0  0.000000    0.0  0.000000  0.0    0.0   \n",
      "1468      0.0  0.000000      0.0  0.0  0.000000    0.0  0.000000  0.0    0.0   \n",
      "1469      0.0  0.000000      0.0  0.0  0.000000    0.0  0.000000  0.0    0.0   \n",
      "1470      0.0  0.000000      0.0  0.0  0.000000    0.0  0.000000  0.0    0.0   \n",
      "1471      0.0  0.000000      0.0  0.0  0.000000    0.0  0.000000  0.0    0.0   \n",
      "1472      0.0  0.000000      0.0  0.0  0.000000    0.0  0.000000  0.0    0.0   \n",
      "1473      0.0  0.000000      0.0  0.0  0.000000    0.0  0.000000  0.0    0.0   \n",
      "1474      0.0  0.000000      0.0  0.0  0.065712    0.0  0.000000  0.0    0.0   \n",
      "1475      0.0  0.000000      0.0  0.0  0.082647    0.0  0.000000  0.0    0.0   \n",
      "1476      0.0  0.000000      0.0  0.0  0.000000    0.0  0.000000  0.0    0.0   \n",
      "\n",
      "      zero  \n",
      "0      0.0  \n",
      "1      0.0  \n",
      "2      0.0  \n",
      "3      0.0  \n",
      "4      0.0  \n",
      "5      0.0  \n",
      "6      0.0  \n",
      "7      0.0  \n",
      "8      0.0  \n",
      "9      0.0  \n",
      "10     0.0  \n",
      "11     0.0  \n",
      "12     0.0  \n",
      "13     0.0  \n",
      "14     0.0  \n",
      "15     0.0  \n",
      "16     0.0  \n",
      "17     0.0  \n",
      "18     0.0  \n",
      "19     0.0  \n",
      "20     0.0  \n",
      "21     0.0  \n",
      "22     0.0  \n",
      "23     0.0  \n",
      "24     0.0  \n",
      "25     0.0  \n",
      "26     0.0  \n",
      "27     0.0  \n",
      "28     0.0  \n",
      "29     0.0  \n",
      "...    ...  \n",
      "1447   0.0  \n",
      "1448   0.0  \n",
      "1449   0.0  \n",
      "1450   0.0  \n",
      "1451   0.0  \n",
      "1452   0.0  \n",
      "1453   0.0  \n",
      "1454   0.0  \n",
      "1455   0.0  \n",
      "1456   0.0  \n",
      "1457   0.0  \n",
      "1458   0.0  \n",
      "1459   0.0  \n",
      "1460   0.0  \n",
      "1461   0.0  \n",
      "1462   0.0  \n",
      "1463   0.0  \n",
      "1464   0.0  \n",
      "1465   0.0  \n",
      "1466   0.0  \n",
      "1467   0.0  \n",
      "1468   0.0  \n",
      "1469   0.0  \n",
      "1470   0.0  \n",
      "1471   0.0  \n",
      "1472   0.0  \n",
      "1473   0.0  \n",
      "1474   0.0  \n",
      "1475   0.0  \n",
      "1476   0.0  \n",
      "\n",
      "[1477 rows x 3294 columns]\n"
     ]
    }
   ],
   "source": [
    "Y=pd.DataFrame(Y.toarray(),columns=vectorizer.get_feature_names())\n",
    "print(Y)"
   ]
  },
  {
   "cell_type": "code",
   "execution_count": 8,
   "metadata": {},
   "outputs": [
    {
     "name": "stdout",
     "output_type": "stream",
     "text": [
      "['java', 'python', 'javascript', 'C++', 'C', 'R']\n"
     ]
    }
   ],
   "source": [
    "skillset= 'java python javascript C++ C R'\n",
    "\n",
    "skills=skillset.split(' ')\n",
    "print(skills)"
   ]
  },
  {
   "cell_type": "code",
   "execution_count": 9,
   "metadata": {},
   "outputs": [],
   "source": [
    "X = vectorizer.transform(skills)"
   ]
  },
  {
   "cell_type": "code",
   "execution_count": 10,
   "metadata": {},
   "outputs": [
    {
     "name": "stdout",
     "output_type": "stream",
     "text": [
      "          0  000  0018    1   10  100  105   11   12  ...  writers  writing  \\\n",
      "0  0.0  0.0  0.0   0.0  0.0  0.0  0.0  0.0  0.0  0.0  ...      0.0      0.0   \n",
      "1  0.0  0.0  0.0   0.0  0.0  0.0  0.0  0.0  0.0  0.0  ...      0.0      0.0   \n",
      "2  0.0  0.0  0.0   0.0  0.0  0.0  0.0  0.0  0.0  0.0  ...      0.0      0.0   \n",
      "3  0.0  0.0  0.0   0.0  0.0  0.0  0.0  0.0  0.0  0.0  ...      0.0      0.0   \n",
      "4  0.0  0.0  0.0   0.0  0.0  0.0  0.0  0.0  0.0  0.0  ...      0.0      0.0   \n",
      "5  0.0  0.0  0.0   0.0  0.0  0.0  0.0  0.0  0.0  0.0  ...      0.0      0.0   \n",
      "\n",
      "   written  www  year  yearn  years  yes  zakir  zero  \n",
      "0      0.0  0.0   0.0    0.0    0.0  0.0    0.0   0.0  \n",
      "1      0.0  0.0   0.0    0.0    0.0  0.0    0.0   0.0  \n",
      "2      0.0  0.0   0.0    0.0    0.0  0.0    0.0   0.0  \n",
      "3      0.0  0.0   0.0    0.0    0.0  0.0    0.0   0.0  \n",
      "4      0.0  0.0   0.0    0.0    0.0  0.0    0.0   0.0  \n",
      "5      0.0  0.0   0.0    0.0    0.0  0.0    0.0   0.0  \n",
      "\n",
      "[6 rows x 3294 columns]\n"
     ]
    }
   ],
   "source": [
    "X=pd.DataFrame(X.toarray(),columns=vectorizer.get_feature_names())\n",
    "print(X)"
   ]
  },
  {
   "cell_type": "code",
   "execution_count": 11,
   "metadata": {},
   "outputs": [
    {
     "data": {
      "text/plain": [
       "(6, 1477)"
      ]
     },
     "execution_count": 11,
     "metadata": {},
     "output_type": "execute_result"
    }
   ],
   "source": [
    "from sklearn.metrics.pairwise import cosine_similarity\n",
    "similarity = (cosine_similarity(X, Y))\n",
    "similarity.shape"
   ]
  },
  {
   "cell_type": "code",
   "execution_count": 12,
   "metadata": {},
   "outputs": [
    {
     "name": "stdout",
     "output_type": "stream",
     "text": [
      "[[0.         0.         0.         ... 0.         0.         0.        ]\n",
      " [0.         0.         0.         ... 0.         0.         0.        ]\n",
      " [0.         0.         0.         ... 0.         0.         0.        ]\n",
      " [0.         0.         0.15456465 ... 0.         0.         0.14545511]\n",
      " [0.         0.         0.15456465 ... 0.         0.         0.14545511]\n",
      " [0.         0.         0.         ... 0.         0.         0.        ]]\n"
     ]
    }
   ],
   "source": [
    "print(similarity)"
   ]
  },
  {
   "cell_type": "code",
   "execution_count": 13,
   "metadata": {},
   "outputs": [],
   "source": [
    "def find_similar(tfidf_matrix, index, top_n):\n",
    "    cosine_similarities = cosine_similarity(Y, tfidf_matrix).flatten()\n",
    "    related_docs_indices = [i for i in cosine_similarities.argsort()[::-1] if i != index]\n",
    "    return [(index, cosine_similarities[index]) for index in related_docs_indices][0:top_n]"
   ]
  },
  {
   "cell_type": "code",
   "execution_count": 14,
   "metadata": {},
   "outputs": [],
   "source": [
    "num = 10\n",
    "rec_jobs= find_similar(X, 1, num)"
   ]
  },
  {
   "cell_type": "code",
   "execution_count": 15,
   "metadata": {},
   "outputs": [],
   "source": [
    "jobs=pd.read_csv(r'C:\\Users\\Venka\\OneDrive\\Desktop\\CMPE 256\\individual project\\job_data.csv')"
   ]
  },
  {
   "cell_type": "code",
   "execution_count": 16,
   "metadata": {},
   "outputs": [
    {
     "name": "stdout",
     "output_type": "stream",
     "text": [
      "Job_Title                          Biller Integration Engineer\n",
      "Company                                                 BillGO\n",
      "Location                                                  None\n",
      "Salary                                                    None\n",
      "Summary      We offer very competitive salaries and benefit...\n",
      "Name: 933, dtype: object\n",
      "-------------------------------------------------------------------------------\n",
      "Job_Title                             Software Safety Engineer\n",
      "Company                                     APT Research, Inc.\n",
      "Location                                                  None\n",
      "Salary                                                    None\n",
      "Summary      Individual will assist the government in ident...\n",
      "Name: 934, dtype: object\n",
      "-------------------------------------------------------------------------------\n",
      "Job_Title                       Software Engineer (All Levels)\n",
      "Company                                        MANTICORE GAMES\n",
      "Location                                         San Mateo, CA\n",
      "Salary                                                    None\n",
      "Summary      We are looking for a Software Engineer at all ...\n",
      "Name: 497, dtype: object\n",
      "-------------------------------------------------------------------------------\n",
      "Job_Title              Software Intern, Robotics - Summer 2020\n",
      "Company                                                 NVIDIA\n",
      "Location                                 Santa Clara, CA 95050\n",
      "Salary                                                    None\n",
      "Summary      Contribute broadly to advance the capabilities...\n",
      "Name: 498, dtype: object\n",
      "-------------------------------------------------------------------------------\n",
      "Job_Title                           Senior Full Stack Engineer\n",
      "Company                                                Netflix\n",
      "Location                                   Los Gatos, CA 95032\n",
      "Salary                                                    None\n",
      "Summary      You are able to go from a single sentence, “We...\n",
      "Name: 757, dtype: object\n",
      "-------------------------------------------------------------------------------\n",
      "Job_Title                        Application Software Engineer\n",
      "Company                                                 Micron\n",
      "Location                                             Boise, ID\n",
      "Salary                                                    None\n",
      "Summary      You will work as part of the Applications Soft...\n",
      "Name: 756, dtype: object\n",
      "-------------------------------------------------------------------------------\n",
      "Job_Title                                    Software Engineer\n",
      "Company                                      Strategic America\n",
      "Location                                                  None\n",
      "Salary                                                    None\n",
      "Summary      The Software Engineer II associate functions a...\n",
      "Name: 838, dtype: object\n",
      "-------------------------------------------------------------------------------\n",
      "Job_Title             Software Engineer - Back-end Development\n",
      "Company                                                 Tynker\n",
      "Location                                                  None\n",
      "Salary                                                    None\n",
      "Summary      Our learning platform delivers courses that te...\n",
      "Name: 837, dtype: object\n",
      "-------------------------------------------------------------------------------\n",
      "Job_Title                           Robotics Software Engineer\n",
      "Company                                Top Flight Technologies\n",
      "Location                                                  None\n",
      "Salary                                                    None\n",
      "Summary      Develop firmware and embedded software in C/C+...\n",
      "Name: 506, dtype: object\n",
      "-------------------------------------------------------------------------------\n",
      "Job_Title                   Sr. Software Engineer - ColdFusion\n",
      "Company                                          Clear Capital\n",
      "Location                                                  None\n",
      "Salary                                                    None\n",
      "Summary      Disrupt the Real Estate data industry by bring...\n",
      "Name: 505, dtype: object\n",
      "-------------------------------------------------------------------------------\n"
     ]
    }
   ],
   "source": [
    "for i in range(0,num):\n",
    "    mn=rec_jobs[i][0]%1537\n",
    "    print(jobs.loc[mn])\n",
    "    print('-------------------------------------------------------------------------------')"
   ]
  },
  {
   "cell_type": "code",
   "execution_count": null,
   "metadata": {},
   "outputs": [],
   "source": []
  }
 ],
 "metadata": {
  "kernelspec": {
   "display_name": "Python 3",
   "language": "python",
   "name": "python3"
  },
  "language_info": {
   "codemirror_mode": {
    "name": "ipython",
    "version": 3
   },
   "file_extension": ".py",
   "mimetype": "text/x-python",
   "name": "python",
   "nbconvert_exporter": "python",
   "pygments_lexer": "ipython3",
   "version": "3.7.3"
  }
 },
 "nbformat": 4,
 "nbformat_minor": 2
}
